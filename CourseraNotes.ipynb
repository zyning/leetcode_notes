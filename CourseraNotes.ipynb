{
 "cells": [
  {
   "cell_type": "markdown",
   "metadata": {},
   "source": [
    "# Minimum Moves to Equal Array Elements"
   ]
  },
  {
   "cell_type": "markdown",
   "metadata": {},
   "source": [
    "Method 1 Greedy choice add 1 to each non-max element (Time limit exceeded)"
   ]
  },
  {
   "cell_type": "code",
   "execution_count": 23,
   "metadata": {},
   "outputs": [],
   "source": [
    "def minMoves(nums):\n",
    "    n = len(nums)\n",
    "    moves = 0\n",
    "    while len(set(nums)) > 1:\n",
    "        moves += 1\n",
    "        maxElement = 0\n",
    "        maxElementId = None\n",
    "        for index in range(len(nums)):\n",
    "            if(nums[index] > maxElement):\n",
    "                maxElementId = index\n",
    "                maxElement = nums[index]\n",
    "            else:\n",
    "                continue\n",
    "        for index in range(len(nums)):\n",
    "            if(index == maxElementId):\n",
    "                continue\n",
    "            else:\n",
    "                nums[index] += 1\n",
    "    return moves"
   ]
  },
  {
   "cell_type": "code",
   "execution_count": 24,
   "metadata": {},
   "outputs": [
    {
     "data": {
      "text/plain": [
       "3"
      ]
     },
     "execution_count": 24,
     "metadata": {},
     "output_type": "execute_result"
    }
   ],
   "source": [
    "minMoves([1,2,3])"
   ]
  },
  {
   "cell_type": "markdown",
   "metadata": {},
   "source": [
    "Method 2 Add up all the difference from the max (Wrong answer)"
   ]
  },
  {
   "cell_type": "code",
   "execution_count": 27,
   "metadata": {},
   "outputs": [],
   "source": [
    "def minMoves(nums):\n",
    "    maxElement = max(nums)\n",
    "    moves = 0\n",
    "    for item in nums:\n",
    "        moves += (maxElement - item)\n",
    "    return moves"
   ]
  },
  {
   "cell_type": "code",
   "execution_count": 28,
   "metadata": {},
   "outputs": [
    {
     "data": {
      "text/plain": [
       "3"
      ]
     },
     "execution_count": 28,
     "metadata": {},
     "output_type": "execute_result"
    }
   ],
   "source": [
    "minMoves([1,2,3])"
   ]
  },
  {
   "cell_type": "markdown",
   "metadata": {},
   "source": [
    "Method 3 Use the minimum element (Accepted)"
   ]
  },
  {
   "cell_type": "code",
   "execution_count": 38,
   "metadata": {},
   "outputs": [],
   "source": [
    "def minMoves(nums):\n",
    "    minElement = min(nums)\n",
    "    moves = 0\n",
    "    for item in nums:\n",
    "        moves += (item - minElement)\n",
    "    return moves"
   ]
  },
  {
   "cell_type": "code",
   "execution_count": 37,
   "metadata": {},
   "outputs": [
    {
     "data": {
      "text/plain": [
       "3"
      ]
     },
     "execution_count": 37,
     "metadata": {},
     "output_type": "execute_result"
    }
   ],
   "source": [
    "minMoves([1,2,3])"
   ]
  },
  {
   "cell_type": "markdown",
   "metadata": {},
   "source": [
    "# Merge two sorted lists"
   ]
  },
  {
   "cell_type": "markdown",
   "metadata": {},
   "source": [
    "Recursive method (Accepted)"
   ]
  },
  {
   "cell_type": "code",
   "execution_count": 39,
   "metadata": {},
   "outputs": [],
   "source": [
    "# Definition for singly-linked list.\n",
    "# class ListNode:\n",
    "#     def __init__(self, x):\n",
    "#         self.val = x\n",
    "#         self.next = None\n",
    "\n",
    "class Solution:\n",
    "    def addNode(self, rootNode1, rootNode2):\n",
    "        if(rootNode1 and rootNode2):\n",
    "            if(rootNode1.val >= rootNode2.val):\n",
    "                outputNode = ListNode(rootNode2.val)\n",
    "                rootNode2 = rootNode2.next\n",
    "                outputNode.next = self.addNode(rootNode1, rootNode2)\n",
    "            elif(rootNode1.val < rootNode2.val):\n",
    "                outputNode = ListNode(rootNode1.val)\n",
    "                rootNode1 = rootNode1.next\n",
    "                outputNode.next = self.addNode(rootNode1, rootNode2)\n",
    "        elif(rootNode1):\n",
    "            return rootNode1\n",
    "        elif(rootNode2):\n",
    "            return rootNode2\n",
    "        else:\n",
    "            return None\n",
    "        return outputNode\n",
    "    \n",
    "    def mergeTwoLists(self, l1, l2):\n",
    "        \"\"\"\n",
    "        :type l1: ListNode\n",
    "        :type l2: ListNode\n",
    "        :rtype: ListNode\n",
    "        \"\"\"\n",
    "        if(l1 and l2):\n",
    "            if(l1.val >= l2.val):\n",
    "                rootNodeOut = ListNode(l2.val)\n",
    "                rootNode1 = l1\n",
    "                rootNode2 = l2.next\n",
    "            elif(l1.val < l2.val):\n",
    "                rootNodeOut = ListNode(l1.val)\n",
    "                rootNode1 = l1.next\n",
    "                rootNode2 = l2\n",
    "            #print(l1.val, l2.val, rootNodeOut.val)\n",
    "            rootNodeOut.next = self.addNode(rootNode1, rootNode2)    \n",
    "            return rootNodeOut\n",
    "        elif(l1 and not l2):\n",
    "            return l1\n",
    "        elif(l2 and not l1):\n",
    "            return l2\n",
    "        else:\n",
    "            return None"
   ]
  },
  {
   "cell_type": "markdown",
   "metadata": {},
   "source": [
    "# Subarray Product Less Than k"
   ]
  },
  {
   "cell_type": "markdown",
   "metadata": {},
   "source": [
    "Method 1 two pointers (time limit exceeded)"
   ]
  },
  {
   "cell_type": "code",
   "execution_count": null,
   "metadata": {},
   "outputs": [],
   "source": [
    "class Solution:\n",
    "    def numSubarrayProductLessThanK(self, nums, k):\n",
    "        \"\"\"\n",
    "        :type nums: List[int]\n",
    "        :type k: int\n",
    "        :rtype: int\n",
    "        \"\"\"\n",
    "        counter = 0\n",
    "        pt1 = 0\n",
    "        pt2 = 0\n",
    "        while pt1 < len(nums):\n",
    "            currentNum = nums[pt1]\n",
    "            if(pt1 == pt2):\n",
    "                currentSum = nums[pt1]\n",
    "            elif(pt2 < len(nums)):\n",
    "                currentSum = nums[pt1]\n",
    "                for i in range(pt1+1, pt2+1):\n",
    "                    currentSum = currentSum*nums[i]\n",
    "            else:\n",
    "                pt1 += 1\n",
    "                pt2 = pt1\n",
    "                continue\n",
    "            if(currentSum < k):\n",
    "                counter += 1\n",
    "                #print(counter, currentSum)\n",
    "                pt2 += 1\n",
    "            else:\n",
    "                pt1 += 1\n",
    "                pt2 = pt1\n",
    "        return counter"
   ]
  },
  {
   "cell_type": "markdown",
   "metadata": {},
   "source": [
    "Method 2 (From answer) silding window"
   ]
  },
  {
   "cell_type": "code",
   "execution_count": null,
   "metadata": {},
   "outputs": [],
   "source": [
    "class Solution:\n",
    "    def numSubarrayProductLessThanK(self, nums, k):\n",
    "        \"\"\"\n",
    "        :type nums: List[int]\n",
    "        :type k: int\n",
    "        :rtype: int\n",
    "        \"\"\"\n",
    "        if(k < 1):\n",
    "            return 0\n",
    "        counter = 0\n",
    "        pt1 = 0\n",
    "        currentProd = 1\n",
    "        for pt2 in range(len(nums)):\n",
    "            currentProd = currentProd*nums[pt2]\n",
    "            while(currentProd >= k and pt1 <= pt2):\n",
    "                currentProd /= nums[pt1]\n",
    "                pt1 += 1\n",
    "            counter += (pt2 - pt1 + 1)\n",
    "            #print(pt1, pt2, counter)\n",
    "        return counter"
   ]
  }
 ],
 "metadata": {
  "kernelspec": {
   "display_name": "Python 3",
   "language": "python",
   "name": "python3"
  },
  "language_info": {
   "codemirror_mode": {
    "name": "ipython",
    "version": 3
   },
   "file_extension": ".py",
   "mimetype": "text/x-python",
   "name": "python",
   "nbconvert_exporter": "python",
   "pygments_lexer": "ipython3",
   "version": "3.7.0"
  }
 },
 "nbformat": 4,
 "nbformat_minor": 2
}
